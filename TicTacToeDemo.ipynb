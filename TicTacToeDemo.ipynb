{
 "cells": [
  {
   "cell_type": "code",
   "execution_count": 1,
   "metadata": {},
   "outputs": [],
   "source": [
    "def player_input(selected_player,playername):\n",
    "    \n",
    "    marker=''\n",
    "    while marker!='X'and marker!='O':\n",
    "        marker=input(f\"{playername}, please select the marker 'X' or 'O': \")\n",
    "        if marker not in ['X','O']:\n",
    "            print(\"Invalid input, please choose from ['X','O']\")\n",
    "            \n",
    "    #assigning  player1 with user choice\n",
    "   \n",
    "    if selected_player==\"player1\":\n",
    "        if marker=='X':\n",
    "            player1='X'\n",
    "            player2='O'\n",
    "        else:\n",
    "            player1='O'\n",
    "            player2='X'\n",
    "            \n",
    "     #assigning player 2 with the opposite marker        \n",
    "    \n",
    "    else:\n",
    "        if marker=='X':\n",
    "            player1='O'\n",
    "            player2='X'\n",
    "        else:\n",
    "            player1='X'\n",
    "            player2='O'\n",
    "            \n",
    "    return player1,player2"
   ]
  },
  {
   "cell_type": "code",
   "execution_count": null,
   "metadata": {},
   "outputs": [],
   "source": []
  },
  {
   "cell_type": "code",
   "execution_count": 2,
   "metadata": {},
   "outputs": [],
   "source": [
    "from IPython.display import clear_output\n",
    "\n",
    "def display_board(board):\n",
    "    clear_output()\n",
    "    print(board[7]+ '|'+board[8]+ '|'+board[9])\n",
    "    print(\"-|-|-\")\n",
    "    print(board[4]+ '|'+board[5]+ '|'+board[6])\n",
    "    print(\"-|-|-\")\n",
    "    print(board[1]+ '|'+board[2]+ '|'+board[3])"
   ]
  },
  {
   "cell_type": "code",
   "execution_count": 3,
   "metadata": {},
   "outputs": [],
   "source": [
    "def place_marker(board, marker, position):\n",
    "    \n",
    "    board[position]=marker\n",
    "    #position=input(\"Enter the position for marker: \")"
   ]
  },
  {
   "cell_type": "code",
   "execution_count": 4,
   "metadata": {},
   "outputs": [],
   "source": [
    "def win_check(board, mark):\n",
    "    \n",
    "    return ((board[7] == mark and board[8] == mark and board[9] == mark) or # across the top\n",
    "    (board[4] == mark and board[5] == mark and board[6] == mark) or # across the middle\n",
    "    (board[1] == mark and board[2] == mark and board[3] == mark) or # across the bottom\n",
    "    (board[7] == mark and board[4] == mark and board[1] == mark) or # down the left\n",
    "    (board[8] == mark and board[5] == mark and board[2] == mark) or # down the middle\n",
    "    (board[9] == mark and board[6] == mark and board[3] == mark) or # down the right side\n",
    "    (board[7] == mark and board[5] == mark and board[3] == mark) or # diagonal\n",
    "    (board[9] == mark and board[5] == mark and board[1] == mark)) # diagonal"
   ]
  },
  {
   "cell_type": "code",
   "execution_count": 5,
   "metadata": {},
   "outputs": [],
   "source": [
    "import random\n",
    "\n",
    "def choose_first():\n",
    "    if random.randint(1,2)==1:\n",
    "        return \"player1\"\n",
    "    else:\n",
    "        return \"player2\""
   ]
  },
  {
   "cell_type": "code",
   "execution_count": null,
   "metadata": {},
   "outputs": [],
   "source": []
  },
  {
   "cell_type": "code",
   "execution_count": 6,
   "metadata": {},
   "outputs": [],
   "source": [
    "def space_check(board, position):\n",
    "    \n",
    "    return board[position]==' '  #returns True if position is available/False if position is already filled"
   ]
  },
  {
   "cell_type": "code",
   "execution_count": 7,
   "metadata": {},
   "outputs": [],
   "source": [
    "def full_board_check(board):\n",
    "    \n",
    "    for i in range(1,10):\n",
    "        if space_check(board,i):\n",
    "            return False\n",
    "    return True"
   ]
  },
  {
   "cell_type": "code",
   "execution_count": 8,
   "metadata": {},
   "outputs": [],
   "source": [
    "def player_choice(board):\n",
    "    position=0\n",
    "    while position not in range(1,10) or not space_check(board,position):\n",
    "         position=int(input(\"Please enter next position between (1-9): \"))\n",
    "    return position"
   ]
  },
  {
   "cell_type": "code",
   "execution_count": 9,
   "metadata": {},
   "outputs": [],
   "source": [
    "def replay():\n",
    "    resp='Wrong Input'\n",
    "    while resp not in ['Y','N'] or full_board_check(board):\n",
    "        resp=input(\"Do you want to play again?(Y/N):  \")\n",
    "        \n",
    "    if resp=='Y':\n",
    "        return True\n",
    "    else:\n",
    "        return False"
   ]
  },
  {
   "cell_type": "code",
   "execution_count": 11,
   "metadata": {},
   "outputs": [
    {
     "name": "stdout",
     "output_type": "stream",
     "text": [
      "O| | \n",
      "-|-|-\n",
      "X|X|X\n",
      "-|-|-\n",
      "O|X|O\n",
      "Sreya, You Won!!\n",
      "Do you want to play again?(Y/N):  N\n",
      "Thanks for playing! Play again later....!!\n"
     ]
    }
   ],
   "source": [
    "#starting the initial setup for tthe game to begin\n",
    "while True:\n",
    "    \n",
    "    player_1=input(\"Please enter player1's name: \")\n",
    "    player_2=input(\"Please enter player2's name: \")\n",
    "    #initialize list\n",
    "    board = [' ']*10\n",
    "    # Display the board each time\n",
    "    display_board(board)\n",
    "    \n",
    "    #Choose the 1st player\n",
    "    selected_player=choose_first()\n",
    "    if selected_player==\"player1\": \n",
    "        print(f\"{player_1} will go first\")\n",
    "        \n",
    "         # Assigning markers to players\n",
    "        player1mark, player2mark=player_input(selected_player,player_1) \n",
    "    else:\n",
    "        print(f\"{player_2} will go first\")\n",
    "        \n",
    "         # Assigning markers to players\n",
    "        player1mark, player2mark=player_input(selected_player,player_2) \n",
    "    \n",
    "    \n",
    "    \n",
    "    play_game = input('Are you ready to play? Enter Yes or No.')\n",
    "    \n",
    "    if play_game.lower()[0] == 'y':\n",
    "        game_on = True\n",
    "    else:\n",
    "        game_on = False\n",
    "    while game_on :\n",
    "        if selected_player==\"player1\":\n",
    "           #Player 1 Turn **********************************\n",
    "            display_board(board) #display the entered marker\n",
    "\n",
    "            print(f\"{player_1}'s turn to play\")\n",
    "           #Position selection by player\n",
    "            position=player_choice(board)\n",
    "            marker=player1mark\n",
    "            #fill the position\n",
    "            place_marker(board, marker, position)\n",
    "       \n",
    "        \n",
    "            #check if there is a winner or board is full\n",
    "            if win_check(board, marker):\n",
    "                display_board(board) #display the entered marker\n",
    "                print(f\"{player_1}, You Won!!\")\n",
    "                game_on=False\n",
    "                break\n",
    "\n",
    "            else: \n",
    "                if full_board_check(board):\n",
    "                    print(\"Its a Draw!!\")\n",
    "                    break\n",
    "            selected_player=\"player2\"\n",
    "        else:\n",
    "            #Player2's  Turn************************************\n",
    "\n",
    "            display_board(board) #display the entered marker\n",
    "\n",
    "            print(f\"{player_2}'s turn to play\")\n",
    "            #Position selection by player\n",
    "            position=player_choice(board)\n",
    "            marker=player2mark\n",
    "            #fill the position\n",
    "            place_marker(board, marker, position)\n",
    "\n",
    "\n",
    "            #check if board is full and if there is a winner\n",
    "            if win_check(board, marker):\n",
    "                display_board(board)\n",
    "                print(f\"{player_2}, You Won!!\")\n",
    "                game_on=False\n",
    "                break\n",
    "\n",
    "            else: \n",
    "                if full_board_check(board):\n",
    "                    print(\"Its a Draw!!\")\n",
    "                    break\n",
    "            selected_player=\"player1\"\n",
    "            \n",
    "    if not replay():\n",
    "        print(\"Thanks for playing! Play again later....!!\")\n",
    "        break"
   ]
  },
  {
   "cell_type": "code",
   "execution_count": null,
   "metadata": {},
   "outputs": [],
   "source": []
  },
  {
   "cell_type": "code",
   "execution_count": null,
   "metadata": {},
   "outputs": [],
   "source": []
  },
  {
   "cell_type": "code",
   "execution_count": null,
   "metadata": {},
   "outputs": [],
   "source": []
  }
 ],
 "metadata": {
  "kernelspec": {
   "display_name": "Python 3",
   "language": "python",
   "name": "python3"
  },
  "language_info": {
   "codemirror_mode": {
    "name": "ipython",
    "version": 3
   },
   "file_extension": ".py",
   "mimetype": "text/x-python",
   "name": "python",
   "nbconvert_exporter": "python",
   "pygments_lexer": "ipython3",
   "version": "3.8.5"
  }
 },
 "nbformat": 4,
 "nbformat_minor": 4
}
